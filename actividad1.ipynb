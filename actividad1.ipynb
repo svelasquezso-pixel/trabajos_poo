{
  "nbformat": 4,
  "nbformat_minor": 0,
  "metadata": {
    "colab": {
      "provenance": [],
      "authorship_tag": "ABX9TyObLseQo7bC/7lN2oVYEZsp",
      "include_colab_link": true
    },
    "kernelspec": {
      "name": "python3",
      "display_name": "Python 3"
    },
    "language_info": {
      "name": "python"
    }
  },
  "cells": [
    {
      "cell_type": "markdown",
      "metadata": {
        "id": "view-in-github",
        "colab_type": "text"
      },
      "source": [
        "<a href=\"https://colab.research.google.com/github/svelasquezso-pixel/trabajos_poo/blob/main/actividad1.ipynb\" target=\"_parent\"><img src=\"https://colab.research.google.com/assets/colab-badge.svg\" alt=\"Open In Colab\"/></a>"
      ]
    },
    {
      "cell_type": "code",
      "execution_count": null,
      "metadata": {
        "id": "EpS7eupCI0uQ"
      },
      "outputs": [],
      "source": [
        "class familia:\n",
        "    def __init__(self,nombre,edad):\n",
        "        self.nombre=nombre\n",
        "        self.edad=edad\n",
        "    def __str__(self):\n",
        "        return f'{self.nombre} tiene {self.edad}'\n",
        "class persona:\n",
        "    def __init__(self,edad_1):\n",
        "        self.juan=familia(\"juan\",edad_1)\n",
        "        self.alberto=familia(\"alberto\",edad_1*2/3)\n",
        "        self.ana=familia(\"ana\",edad_1*4/3)\n",
        "        self.mama=familia(\"mama\",self.juan.edad+self.alberto.edad+self.ana.edad)\n",
        "edad_1=int(input(\"dijite la edad de juan: \"))\n",
        "hola=persona(edad_1)\n",
        "print(hola.juan)\n",
        "print(hola.alberto)\n",
        "print(hola.ana)\n",
        "print(hola.mama)"
      ]
    },
    {
      "cell_type": "code",
      "source": [
        "class caracteristicas:\n",
        "    def __init__(self, nombre):\n",
        "        self.nombre=nombre\n",
        "        self.pago_bruto=48*5000\n",
        "        self.retencion=self.pago_bruto*0.125\n",
        "        self.pago_neto=self.pago_bruto-self.retencion\n",
        "    def __str__(self):\n",
        "        return f'{self.nombre}-salario brutro-{self.pago_bruto}-retencion de fuente-{self.retencion}-salario neto-{self.pago_neto}'\n",
        "class trabajador:\n",
        "    def __init__(self,nombre):\n",
        "        self.nombreca=caracteristicas(nombre)\n",
        "trabajadores=[]\n",
        "personaje=input(\"digite su nombre: \")\n",
        "trabajadores.append(trabajador(personaje))\n",
        "print(trabajadores[0].nombreca)"
      ],
      "metadata": {
        "id": "t_-RnKiSJhDO"
      },
      "execution_count": null,
      "outputs": []
    },
    {
      "cell_type": "code",
      "source": [
        "class numero:\n",
        "    def __init__(self, n):\n",
        "        self.numeron=n\n",
        "    def cuadrado(self):\n",
        "        return self.numeron**2\n",
        "    def cubo(self):\n",
        "        return self.numeron**3\n",
        "numerou=int(input(\"digite el numero: \"))\n",
        "resultado=numero(numerou)\n",
        "print(f'el numero es {resultado.numeron} cuadrado es {resultado.cuadrado()} cubo es {resultado.cubo()}')"
      ],
      "metadata": {
        "id": "9tXUEUp0JhJ2"
      },
      "execution_count": null,
      "outputs": []
    },
    {
      "cell_type": "code",
      "source": [
        "import math\n",
        "class numero:\n",
        "    def __init__(self, n):\n",
        "        self.numeron=n\n",
        "    def area(self):\n",
        "        return self.numeron**2*math.pi\n",
        "    def circunferencia(self):\n",
        "        return self.numeron*2*math.pi\n",
        "numerou=int(input(\"digite el numero: \"))\n",
        "resultado=numero(numerou)\n",
        "print(f'el numero es {resultado.numeron} el area {resultado.area()} lo longitud de circunferencia  {resultado.circunferencia()}')"
      ],
      "metadata": {
        "id": "TYxI7N7FJhYV"
      },
      "execution_count": null,
      "outputs": []
    }
  ]
}