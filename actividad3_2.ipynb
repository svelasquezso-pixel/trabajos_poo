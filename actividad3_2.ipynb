{
  "nbformat": 4,
  "nbformat_minor": 0,
  "metadata": {
    "colab": {
      "provenance": [],
      "authorship_tag": "ABX9TyM2wADMjv6jcSMEQtGttsSM",
      "include_colab_link": true
    },
    "kernelspec": {
      "name": "python3",
      "display_name": "Python 3"
    },
    "language_info": {
      "name": "python"
    }
  },
  "cells": [
    {
      "cell_type": "markdown",
      "metadata": {
        "id": "view-in-github",
        "colab_type": "text"
      },
      "source": [
        "<a href=\"https://colab.research.google.com/github/svelasquezso-pixel/trabajos_poo/blob/main/actividad3_2.ipynb\" target=\"_parent\"><img src=\"https://colab.research.google.com/assets/colab-badge.svg\" alt=\"Open In Colab\"/></a>"
      ]
    },
    {
      "cell_type": "code",
      "execution_count": null,
      "metadata": {
        "id": "_pvMcJzvwl8v"
      },
      "outputs": [],
      "source": [
        "import tkinter as tk\n",
        "root = tk.Tk()\n",
        "root.geometry(\"500x500\")\n",
        "\n",
        "class salario_p:\n",
        "    def __init__(self,sal,ven):\n",
        "        if ven>1000000:\n",
        "            self.salariof=sal+0.1*ven\n",
        "        else:\n",
        "            self.salariof=sal\n",
        "    def __str__(self):\n",
        "        return f'El salario es: {self.salariof}'\n",
        "\n",
        "def calcular_salario():\n",
        "    sal = float(salario.get())\n",
        "    ven = float(ventas.get())\n",
        "    hola = salario_p(sal, ven)\n",
        "    resultado = tk.Label(root, text=hola)\n",
        "    resultado.pack()\n",
        "\n",
        "tk.Label(root, text=\"Salario:\").pack()\n",
        "salario = tk.Entry(root)\n",
        "salario.pack()\n",
        "\n",
        "tk.Label(root, text=\"Ventas:\").pack()\n",
        "ventas = tk.Entry(root)\n",
        "ventas.pack()\n",
        "\n",
        "boton = tk.Button(root, text=\"Mostrar\", command=calcular_salario)\n",
        "boton.pack()\n",
        "root.mainloop()\n"
      ]
    }
  ]
}