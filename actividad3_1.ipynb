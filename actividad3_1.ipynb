{
  "nbformat": 4,
  "nbformat_minor": 0,
  "metadata": {
    "colab": {
      "provenance": [],
      "authorship_tag": "ABX9TyO99KnFEqadPVFSbQoJ42dJ",
      "include_colab_link": true
    },
    "kernelspec": {
      "name": "python3",
      "display_name": "Python 3"
    },
    "language_info": {
      "name": "python"
    }
  },
  "cells": [
    {
      "cell_type": "markdown",
      "metadata": {
        "id": "view-in-github",
        "colab_type": "text"
      },
      "source": [
        "<a href=\"https://colab.research.google.com/github/svelasquezso-pixel/trabajos_poo/blob/main/actividad3_1.ipynb\" target=\"_parent\"><img src=\"https://colab.research.google.com/assets/colab-badge.svg\" alt=\"Open In Colab\"/></a>"
      ]
    },
    {
      "cell_type": "code",
      "execution_count": null,
      "metadata": {
        "id": "MScYmN0YsC4v"
      },
      "outputs": [],
      "source": [
        "# Importamos la librería Tkinter para crear la interfaz gráfica\n",
        "import tkinter as tk\n",
        "\n",
        "# Creamos la ventana principal\n",
        "root = tk.Tk()\n",
        "root.geometry(\"500x500\")  # Definimos el tamaño de la ventana\n",
        "\n",
        "# -------------------------------\n",
        "# Clase que calcula el promedio\n",
        "# -------------------------------\n",
        "class promedio:\n",
        "    def __init__(self, n1, n2, n3, n4, n5):\n",
        "        # Calculamos el promedio de los 5 números\n",
        "        self.promedio = (n1 + n2 + n3 + n4 + n5) / 5\n",
        "\n",
        "    # Método que devuelve el texto con el resultado\n",
        "    def __str__(self):\n",
        "        return f'El promedio es: {self.promedio}'\n",
        "\n",
        "# --------------------------------------\n",
        "# Función que se ejecuta al presionar el botón\n",
        "# --------------------------------------\n",
        "def calcular_promedio():\n",
        "    # Obtenemos los valores escritos en cada Entry y los convertimos a float\n",
        "    n1 = float(numero1.get())\n",
        "    n2 = float(numero2.get())\n",
        "    n3 = float(numero3.get())\n",
        "    n4 = float(numero4.get())\n",
        "    n5 = float(numero5.get())\n",
        "\n",
        "    # Creamos un objeto de la clase promedio con los valores ingresados\n",
        "    hola = promedio(n1, n2, n3, n4, n5)\n",
        "\n",
        "    # Creamos un nuevo campo Entry para mostrar el resultado\n",
        "    resultado = tk.Entry(root)\n",
        "    resultado.pack()\n",
        "\n",
        "    # Insertamos el resultado (texto del método __str__) dentro del Entry\n",
        "    resultado.insert(0,hola)\n",
        "\n",
        "# --------------------------------------\n",
        "# Campos de entrada (Entry) para los números\n",
        "# --------------------------------------\n",
        "numero1 = tk.Entry(root)\n",
        "numero1.pack()\n",
        "\n",
        "numero2 = tk.Entry(root)\n",
        "numero2.pack()\n",
        "\n",
        "numero3 = tk.Entry(root)\n",
        "numero3.pack()\n",
        "\n",
        "numero4 = tk.Entry(root)\n",
        "numero4.pack()\n",
        "\n",
        "numero5 = tk.Entry(root)\n",
        "numero5.pack()\n",
        "\n",
        "# --------------------------------------\n",
        "# Botón que ejecuta la función calcular_promedio()\n",
        "# --------------------------------------\n",
        "boton = tk.Button(root, text=\"Promedio\", command=calcular_promedio)\n",
        "boton.pack()\n",
        "\n",
        "# Iniciamos el bucle principal de la ventana\n",
        "root.mainloop()\n"
      ]
    }
  ]
}