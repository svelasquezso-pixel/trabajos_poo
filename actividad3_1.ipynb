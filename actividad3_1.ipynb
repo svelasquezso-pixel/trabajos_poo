{
  "nbformat": 4,
  "nbformat_minor": 0,
  "metadata": {
    "colab": {
      "provenance": [],
      "authorship_tag": "ABX9TyO99KnFEqadPVFSbQoJ42dJ",
      "include_colab_link": true
    },
    "kernelspec": {
      "name": "python3",
      "display_name": "Python 3"
    },
    "language_info": {
      "name": "python"
    }
  },
  "cells": [
    {
      "cell_type": "markdown",
      "metadata": {
        "id": "view-in-github",
        "colab_type": "text"
      },
      "source": [
        "<a href=\"https://colab.research.google.com/github/svelasquezso-pixel/trabajos_poo/blob/main/actividad3_1.ipynb\" target=\"_parent\"><img src=\"https://colab.research.google.com/assets/colab-badge.svg\" alt=\"Open In Colab\"/></a>"
      ]
    },
    {
      "cell_type": "code",
      "execution_count": 1,
      "metadata": {
        "colab": {
          "base_uri": "https://localhost:8080/",
          "height": 332
        },
        "id": "MScYmN0YsC4v",
        "outputId": "600ebf15-4d7b-4ffb-e833-4fdcbb2be306"
      },
      "outputs": [
        {
          "output_type": "error",
          "ename": "TclError",
          "evalue": "no display name and no $DISPLAY environment variable",
          "traceback": [
            "\u001b[0;31m---------------------------------------------------------------------------\u001b[0m",
            "\u001b[0;31mTclError\u001b[0m                                  Traceback (most recent call last)",
            "\u001b[0;32m/tmp/ipython-input-271108255.py\u001b[0m in \u001b[0;36m<cell line: 0>\u001b[0;34m()\u001b[0m\n\u001b[1;32m      3\u001b[0m \u001b[0;34m\u001b[0m\u001b[0m\n\u001b[1;32m      4\u001b[0m \u001b[0;31m# Creamos la ventana principal\u001b[0m\u001b[0;34m\u001b[0m\u001b[0;34m\u001b[0m\u001b[0m\n\u001b[0;32m----> 5\u001b[0;31m \u001b[0mroot\u001b[0m \u001b[0;34m=\u001b[0m \u001b[0mtk\u001b[0m\u001b[0;34m.\u001b[0m\u001b[0mTk\u001b[0m\u001b[0;34m(\u001b[0m\u001b[0;34m)\u001b[0m\u001b[0;34m\u001b[0m\u001b[0;34m\u001b[0m\u001b[0m\n\u001b[0m\u001b[1;32m      6\u001b[0m \u001b[0mroot\u001b[0m\u001b[0;34m.\u001b[0m\u001b[0mgeometry\u001b[0m\u001b[0;34m(\u001b[0m\u001b[0;34m\"500x500\"\u001b[0m\u001b[0;34m)\u001b[0m  \u001b[0;31m# Definimos el tamaño de la ventana\u001b[0m\u001b[0;34m\u001b[0m\u001b[0;34m\u001b[0m\u001b[0m\n\u001b[1;32m      7\u001b[0m \u001b[0;34m\u001b[0m\u001b[0m\n",
            "\u001b[0;32m/usr/lib/python3.12/tkinter/__init__.py\u001b[0m in \u001b[0;36m__init__\u001b[0;34m(self, screenName, baseName, className, useTk, sync, use)\u001b[0m\n\u001b[1;32m   2347\u001b[0m                 \u001b[0mbaseName\u001b[0m \u001b[0;34m=\u001b[0m \u001b[0mbaseName\u001b[0m \u001b[0;34m+\u001b[0m \u001b[0mext\u001b[0m\u001b[0;34m\u001b[0m\u001b[0;34m\u001b[0m\u001b[0m\n\u001b[1;32m   2348\u001b[0m         \u001b[0minteractive\u001b[0m \u001b[0;34m=\u001b[0m \u001b[0;32mFalse\u001b[0m\u001b[0;34m\u001b[0m\u001b[0;34m\u001b[0m\u001b[0m\n\u001b[0;32m-> 2349\u001b[0;31m         \u001b[0mself\u001b[0m\u001b[0;34m.\u001b[0m\u001b[0mtk\u001b[0m \u001b[0;34m=\u001b[0m \u001b[0m_tkinter\u001b[0m\u001b[0;34m.\u001b[0m\u001b[0mcreate\u001b[0m\u001b[0;34m(\u001b[0m\u001b[0mscreenName\u001b[0m\u001b[0;34m,\u001b[0m \u001b[0mbaseName\u001b[0m\u001b[0;34m,\u001b[0m \u001b[0mclassName\u001b[0m\u001b[0;34m,\u001b[0m \u001b[0minteractive\u001b[0m\u001b[0;34m,\u001b[0m \u001b[0mwantobjects\u001b[0m\u001b[0;34m,\u001b[0m \u001b[0museTk\u001b[0m\u001b[0;34m,\u001b[0m \u001b[0msync\u001b[0m\u001b[0;34m,\u001b[0m \u001b[0muse\u001b[0m\u001b[0;34m)\u001b[0m\u001b[0;34m\u001b[0m\u001b[0;34m\u001b[0m\u001b[0m\n\u001b[0m\u001b[1;32m   2350\u001b[0m         \u001b[0;32mif\u001b[0m \u001b[0m_debug\u001b[0m\u001b[0;34m:\u001b[0m\u001b[0;34m\u001b[0m\u001b[0;34m\u001b[0m\u001b[0m\n\u001b[1;32m   2351\u001b[0m             \u001b[0mself\u001b[0m\u001b[0;34m.\u001b[0m\u001b[0mtk\u001b[0m\u001b[0;34m.\u001b[0m\u001b[0msettrace\u001b[0m\u001b[0;34m(\u001b[0m\u001b[0m_print_command\u001b[0m\u001b[0;34m)\u001b[0m\u001b[0;34m\u001b[0m\u001b[0;34m\u001b[0m\u001b[0m\n",
            "\u001b[0;31mTclError\u001b[0m: no display name and no $DISPLAY environment variable"
          ]
        }
      ],
      "source": [
        "# Importamos la librería Tkinter para crear la interfaz gráfica\n",
        "import tkinter as tk\n",
        "\n",
        "# Creamos la ventana principal\n",
        "root = tk.Tk()\n",
        "root.geometry(\"500x500\")  # Definimos el tamaño de la ventana\n",
        "\n",
        "# -------------------------------\n",
        "# Clase que calcula el promedio\n",
        "# -------------------------------\n",
        "class promedio:\n",
        "    def __init__(self, n1, n2, n3, n4, n5):\n",
        "        # Calculamos el promedio de los 5 números\n",
        "        self.promedio = (n1 + n2 + n3 + n4 + n5) / 5\n",
        "\n",
        "    # Método que devuelve el texto con el resultado\n",
        "    def __str__(self):\n",
        "        return f'El promedio es: {self.promedio}'\n",
        "\n",
        "# --------------------------------------\n",
        "# Función que se ejecuta al presionar el botón\n",
        "# --------------------------------------\n",
        "def calcular_promedio():\n",
        "    # Obtenemos los valores escritos en cada Entry y los convertimos a float\n",
        "    n1 = float(numero1.get())\n",
        "    n2 = float(numero2.get())\n",
        "    n3 = float(numero3.get())\n",
        "    n4 = float(numero4.get())\n",
        "    n5 = float(numero5.get())\n",
        "\n",
        "    # Creamos un objeto de la clase promedio con los valores ingresados\n",
        "    hola = promedio(n1, n2, n3, n4, n5)\n",
        "\n",
        "    # Creamos un nuevo campo Entry para mostrar el resultado\n",
        "    resultado = tk.Entry(root)\n",
        "    resultado.pack()\n",
        "\n",
        "    # Insertamos el resultado (texto del método __str__) dentro del Entry\n",
        "    resultado.insert(0,hola)\n",
        "\n",
        "# --------------------------------------\n",
        "# Campos de entrada (Entry) para los números\n",
        "# --------------------------------------\n",
        "numero1 = tk.Entry(root)\n",
        "numero1.pack()\n",
        "\n",
        "numero2 = tk.Entry(root)\n",
        "numero2.pack()\n",
        "\n",
        "numero3 = tk.Entry(root)\n",
        "numero3.pack()\n",
        "\n",
        "numero4 = tk.Entry(root)\n",
        "numero4.pack()\n",
        "\n",
        "numero5 = tk.Entry(root)\n",
        "numero5.pack()\n",
        "\n",
        "# --------------------------------------\n",
        "# Botón que ejecuta la función calcular_promedio()\n",
        "# --------------------------------------\n",
        "boton = tk.Button(root, text=\"Promedio\", command=calcular_promedio)\n",
        "boton.pack()\n",
        "\n",
        "# Iniciamos el bucle principal de la ventana\n",
        "root.mainloop()\n"
      ]
    }
  ]
}