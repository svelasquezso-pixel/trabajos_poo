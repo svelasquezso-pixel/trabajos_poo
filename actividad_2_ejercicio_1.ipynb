{
  "nbformat": 4,
  "nbformat_minor": 0,
  "metadata": {
    "colab": {
      "provenance": [],
      "authorship_tag": "ABX9TyPd08RthZH/b0upH8z6wgcd",
      "include_colab_link": true
    },
    "kernelspec": {
      "name": "python3",
      "display_name": "Python 3"
    },
    "language_info": {
      "name": "python"
    }
  },
  "cells": [
    {
      "cell_type": "markdown",
      "metadata": {
        "id": "view-in-github",
        "colab_type": "text"
      },
      "source": [
        "<a href=\"https://colab.research.google.com/github/svelasquezso-pixel/trabajos_poo/blob/main/actividad_2_ejercicio_1.ipynb\" target=\"_parent\"><img src=\"https://colab.research.google.com/assets/colab-badge.svg\" alt=\"Open In Colab\"/></a>"
      ]
    },
    {
      "cell_type": "code",
      "execution_count": null,
      "metadata": {
        "id": "8KeOwhirTQBf"
      },
      "outputs": [],
      "source": [
        "class caracteristicas:\n",
        "    def __init__(self,nombre,apellidos,ndocumento,aniona,pais,genero):\n",
        "        self.nombre=nombre\n",
        "        self.apellidos=apellidos\n",
        "        self.ndocumento=ndocumento\n",
        "        self.aniona=aniona\n",
        "        self.pais=pais\n",
        "        self.genero=genero\n",
        "    def __str__(self):\n",
        "        return f'{self.nombre} {self.apellidos}-Numero de documento: {self.ndocumento}-Año de nacimiento: {self.aniona}-Pais de nacimiento: {self.pais}- Genero: {self.genero}'\n",
        "class personas:\n",
        "    def __init__(self,nombre,apellidos,ndocumento,aniona,pais,genero):\n",
        "        self.nombrec=caracteristicas(nombre,apellidos,ndocumento,aniona,pais,genero)\n",
        "nombre=input(\"digite su nombre\")\n",
        "apellidos=input(\"digite sus apellidos\")\n",
        "ndocumento=input(\"digite su documento\")\n",
        "aniona=input(\"digite su año de nacimiento\")\n",
        "pais=input(\"digite su pais de origen\")\n",
        "genero=input(\"digite su genero\")\n",
        "hola=personas(nombre,apellidos,ndocumento,aniona,pais,genero)\n",
        "print(hola.nombrec)"
      ]
    }
  ]
}