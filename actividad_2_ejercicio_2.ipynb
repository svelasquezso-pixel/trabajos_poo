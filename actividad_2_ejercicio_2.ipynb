{
  "nbformat": 4,
  "nbformat_minor": 0,
  "metadata": {
    "colab": {
      "provenance": [],
      "authorship_tag": "ABX9TyNGY/5/glwvJSKsEsRrkXJ1",
      "include_colab_link": true
    },
    "kernelspec": {
      "name": "python3",
      "display_name": "Python 3"
    },
    "language_info": {
      "name": "python"
    }
  },
  "cells": [
    {
      "cell_type": "markdown",
      "metadata": {
        "id": "view-in-github",
        "colab_type": "text"
      },
      "source": [
        "<a href=\"https://colab.research.google.com/github/svelasquezso-pixel/trabajos_poo/blob/main/actividad_2_ejercicio_2.ipynb\" target=\"_parent\"><img src=\"https://colab.research.google.com/assets/colab-badge.svg\" alt=\"Open In Colab\"/></a>"
      ]
    },
    {
      "cell_type": "code",
      "execution_count": null,
      "metadata": {
        "id": "CMzdHnB3VZeF"
      },
      "outputs": [],
      "source": [
        "class caracteristicas:\n",
        "    def __init__(self, nombre, satelites, masa, volumen,diametro, distancia_media_sol,tipo_planeta,observable,periodo_orbital,periodo_rotacion):\n",
        "        self.nombre = nombre\n",
        "        self.satelites = satelites\n",
        "        self.masa = masa\n",
        "        self.volumen = volumen\n",
        "        self.diametro = diametro\n",
        "        self.distancia_media_sol = distancia_media_sol\n",
        "        self.tipo_planeta = tipo_planeta\n",
        "        if observable==\"si\" or observable==\"true\":\n",
        "            self.observable = True\n",
        "        else:\n",
        "            self.observable = False\n",
        "        self.periodo_orbital = periodo_orbital\n",
        "        self.periodo_rotacion = periodo_rotacion\n",
        "    def __str__(self):\n",
        "        return f'El nombre es {self.nombre}, tiene {self.satelites} satélites, su masa es {self.masa} kg, su volumen es {self.volumen} km³, su diámetro es {self.diametro} km, su distancia media al Sol es {self.distancia_media_sol} millones de km, su tipo de planeta es {self.tipo_planeta}, es observable: {self.observable}, su período orbital es {self.periodo_orbital} años y su período de rotación es {self.periodo_rotacion} días.'\n",
        "nombre=input(\"digite su nombre\")\n",
        "satelites=int(input(\"digite sus satelites\"))\n",
        "masa=float(input(\"digite su masa\"))\n",
        "volumen=float(input(\"digite su volumen\"))\n",
        "diametro=int(input(\"digite su diametro\"))\n",
        "distancia_media_sol=int(input(\"digite su distancia_media_sol\"))\n",
        "tipo_planeta=input(\"digite su tipo_planeta\")\n",
        "observable=input(\"digite si es observable\").strip().lower()\n",
        "periodo_orbital=float(input(\"digite su periodo_orbital\"))\n",
        "periodo_rotacion=float(input(\"digite su periodo_rotacion\"))\n",
        "hola=caracteristicas(nombre, satelites, masa, volumen,diametro, distancia_media_sol,tipo_planeta, observable,periodo_orbital, periodo_rotacion)\n",
        "print(hola)"
      ]
    }
  ]
}